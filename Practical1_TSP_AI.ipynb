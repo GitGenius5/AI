{
  "nbformat": 4,
  "nbformat_minor": 0,
  "metadata": {
    "colab": {
      "provenance": []
    },
    "kernelspec": {
      "name": "python3",
      "display_name": "Python 3"
    },
    "language_info": {
      "name": "python"
    }
  },
  "cells": [
    {
      "cell_type": "code",
      "execution_count": null,
      "metadata": {
        "id": "38VlmtccuGh3"
      },
      "outputs": [],
      "source": [
        "#travelling salesman problem\n",
        "from sys import maxsize\n",
        "from itertools import permutations\n",
        "V = 4\n",
        "#implementation of TSP\n",
        "\n",
        "def travellingSalesmanProblem(graph, s):\n",
        "\n",
        "  #sort all vertex apart from source vertex\n",
        "    vertex = []\n",
        "    for i in range(V):\n",
        "        if i != s:\n",
        "            vertex.append(i)\n",
        "\n",
        "#store minimum weight Hamiltonian Cycle\n",
        "    min_path = maxsize\n",
        "    next_permutation=permutations(vertex)\n",
        "    for i in next_permutation:\n",
        "\n",
        "      #store current pth weight(cost)\n",
        "      current_pathweight = 0\n",
        "\n",
        "      #compute current path weight\n",
        "      k = s\n",
        "      for j in i:\n",
        "        current_pathweight += graph[k][j]\n",
        "        k = j\n",
        "      current_pathweight += graph[k][s]\n",
        "\n",
        "      #update min_path\n",
        "      min_path = min(min_path, current_pathweight)\n",
        "\n",
        "    return min_path\n",
        "\n",
        "    #Driver code\n",
        "    if __name__ == '__main__':\n",
        "      #matrix representation of graph\n",
        "        graph = [[0, 10, 15, 20],\n",
        "                [10, 0, 35, 25],\n",
        "                [15, 35,0, 30],\n",
        "                [20, 25, 30, 0]]\n",
        "        s = 0\n",
        "        print(travellingSalesmanProblem(graph, s))\n",
        "\n",
        "\n",
        "\n",
        "        Output: 80"
      ]
    }
  ]
}