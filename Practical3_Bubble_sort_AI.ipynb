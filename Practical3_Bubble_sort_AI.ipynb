{
  "nbformat": 4,
  "nbformat_minor": 0,
  "metadata": {
    "colab": {
      "provenance": []
    },
    "kernelspec": {
      "name": "python3",
      "display_name": "Python 3"
    },
    "language_info": {
      "name": "python"
    }
  },
  "cells": [
    {
      "cell_type": "code",
      "execution_count": 11,
      "metadata": {
        "id": "38VlmtccuGh3",
        "colab": {
          "base_uri": "https://localhost:8080/"
        },
        "outputId": "9de59dc2-436b-446d-840a-c6efd772ba0e"
      },
      "outputs": [
        {
          "output_type": "stream",
          "name": "stdout",
          "text": [
            "Sorted array is:\n",
            "1\n",
            "2\n",
            "10\n",
            "23\n"
          ]
        }
      ],
      "source": [
        "\n",
        "def bubbleSort(arr):\n",
        "    n = len(arr)\n",
        "    # For loop to traverse through all elements in the array\n",
        "    for i in range(n):\n",
        "        for j in range(0, n - i - 1):\n",
        "            if arr[j] > arr[j + 1]:\n",
        "                arr[j], arr[j + 1] = arr[j + 1], arr[j]\n",
        "\n",
        "# Driver code\n",
        "# Example to test the above code\n",
        "arr = [2, 1, 10, 23]\n",
        "bubbleSort(arr)\n",
        "\n",
        "print(\"Sorted array is:\")\n",
        "for i in range(len(arr)):\n",
        "    print(\"%d\" % arr[i])"
      ]
    }
  ]
}